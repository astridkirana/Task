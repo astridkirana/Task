{
  "metadata": {
    "kernelspec": {
      "name": "xpython",
      "display_name": "Python 3.13 (XPython)",
      "language": "python"
    },
    "language_info": {
      "file_extension": ".py",
      "mimetype": "text/x-python",
      "name": "python",
      "version": "3.13.1"
    }
  },
  "nbformat_minor": 5,
  "nbformat": 4,
  "cells": [
    {
      "id": "c6b2520b-cfe2-49f3-a324-9c058d7699bb",
      "cell_type": "code",
      "source": "import random as rnd\n\nfor i in range(40):  # menghasilkan 40 bilangan acak\n    x = 10 * rnd.random()   # bilangan acak antara 0 dan 10\n    xs = f'{x:.1f}'         # dibulatkan 1 angka di belakang koma\n    print(xs, end=' ')\nprint()\n",
      "metadata": {
        "trusted": true
      },
      "outputs": [],
      "execution_count": null
    },
    {
      "id": "c5e2c3af-0927-4389-b7ab-7f8fc44fd901",
      "cell_type": "code",
      "source": "import random as rnd\n\nrnd.seed(0)  # seed hanya sekali, sebelum loop\n\nfor i in range(10):\n    x = rnd.random()\n    xs = f'{x:0.4f}'\n    print(xs, end=' ')\nprint()\n",
      "metadata": {
        "trusted": true
      },
      "outputs": [],
      "execution_count": null
    },
    {
      "id": "016ea8ef-350e-40b9-abff-11f944e20bdf",
      "cell_type": "code",
      "source": "import random as rnd\n\ndef reuse_seed_demo(seeds):\n    print(\"== Reuse seed demo (random.random()) ==\")\n    for s in seeds:\n        rnd.seed(s)\n        x = rnd.random()\n        print(f\"seed={s:>2} -> {x:.4f}\")\n    print()",
      "metadata": {
        "trusted": true
      },
      "outputs": [],
      "execution_count": null
    },
    {
      "id": "29bf9528-fe48-4f65-b90e-3e5ea55b8da1",
      "cell_type": "code",
      "source": "def randint_with_seed(seed_init, a, b, n):\n    print(f\"== randint with seed({seed_init}) on [{a},{b}] x{n} ==\")\n    rnd.seed(seed_init)\n    for _ in range(n):\n        print(rnd.randint(a, b), end=\", \")\n    print(\"\\n\")",
      "metadata": {
        "trusted": true
      },
      "outputs": [],
      "execution_count": null
    },
    {
      "id": "baeab703-a880-401e-8fde-02e4debb4a47",
      "cell_type": "code",
      "source": "def randrange_variable_step_demo(seed_init, iterations=20):\n    print(f\"== randrange variable step demo (seed={seed_init}) ==\")\n    rnd.seed(seed_init)\n    out1 = []\n    for i in range(iterations):\n        # step grows each iteration (1+i)\n        step = 1 + i\n        # if step > 0, choose from range(0,100,step)\n        try:\n            x = rnd.randrange(0, 100, step)\n        except ValueError:\n            x = None\n        out1.append(str(x))\n    print(\"variable-step:\", \", \".join(out1))\n\n    # now constant step = 1 (should produce deterministic sequence different from above)\n    rnd.seed(seed_init)\n    out2 = [str(rnd.randrange(0, 100, 1)) for _ in range(iterations)]\n    print(\"constant-step  :\", \", \".join(out2))\n    print()",
      "metadata": {
        "trusted": true
      },
      "outputs": [],
      "execution_count": null
    },
    {
      "id": "dac4377c-cfc4-44cb-a357-d2923d29908a",
      "cell_type": "code",
      "source": "def randrange_with_step(seed_init, begin, end, step, iterations=30):\n    print(f\"== randrange with step={step} (seed={seed_init}) ==\")\n    rnd.seed(seed_init)\n    for _ in range(iterations):\n        print(rnd.randrange(begin, end, step), end=\", \")\n    print(\"\\n\")",
      "metadata": {
        "trusted": true
      },
      "outputs": [],
      "execution_count": null
    },
    {
      "id": "8e80c359-429e-4471-b523-f9d1b2f46925",
      "cell_type": "code",
      "source": "def fixed_digit_filenames(seed_init, count=50, max_n=200):\n    print(f\"== Fixed-digit filenames (seed={seed_init}) ==\")\n    rnd.seed(seed_init)\n    names = []\n    for _ in range(count):\n        j = rnd.randint(0, max_n-1)\n        k = f\"{j:03d}\"   # fixed 3 digits, e.g. 007, 123\n        names.append(k)\n    print(\" \".join(names))\n    print()",
      "metadata": {
        "trusted": true
      },
      "outputs": [],
      "execution_count": null
    },
    {
      "id": "0009626c-7a8c-4641-b0a9-da02b56e2d70",
      "cell_type": "code",
      "source": "def randint_vs_randrange_compare(seed_init, a, b, iterations=20):\n    print(f\"== randint() vs randrange(begin, end) with same seed ({seed_init}) ==\")\n    rnd.seed(seed_init)\n    out_rang = [str(rnd.randrange(a, b)) for _ in range(iterations)]\n    print(\"randrange:\", \", \".join(out_rang))\n\n    rnd.seed(seed_init)\n    out_int = [str(rnd.randint(a, b-1)) for _ in range(iterations)]\n    print(\"randint  :\", \", \".join(out_int))\n    print(\"Note: randint(a,b-1) should match randrange(a,b) because ranges are the same.\")\n    print()",
      "metadata": {
        "trusted": true
      },
      "outputs": [],
      "execution_count": null
    }
  ]
}